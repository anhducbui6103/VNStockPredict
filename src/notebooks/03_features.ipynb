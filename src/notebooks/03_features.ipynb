{
 "cells": [
  {
   "cell_type": "code",
   "execution_count": 1,
   "id": "e34e3ccc",
   "metadata": {},
   "outputs": [],
   "source": [
    "import pandas as pd\n",
    "import numpy as np\n",
    "import sys\n",
    "sys.path.append(\"../utils\")\n",
    "\n",
    "from utils import load_csv, save_data"
   ]
  },
  {
   "cell_type": "code",
   "execution_count": 7,
   "id": "18190298",
   "metadata": {},
   "outputs": [],
   "source": [
    "import pandas as pd\n",
    "\n",
    "def create_features(df: pd.DataFrame) -> pd.DataFrame:\n",
    "    df = df.copy()\n",
    "\n",
    "    # EMA và SMA\n",
    "    df['EMA_9'] = df['close'].ewm(span=9, adjust=False).mean().shift()\n",
    "    df['SMA_5'] = df['close'].rolling(5).mean().shift()\n",
    "    df['SMA_10'] = df['close'].rolling(10).mean().shift()\n",
    "    df['SMA_15'] = df['close'].rolling(15).mean().shift()\n",
    "    df['SMA_30'] = df['close'].rolling(30).mean().shift()\n",
    "\n",
    "    # Tính RSI (14 ngày)\n",
    "    delta = df['close'].diff()\n",
    "    gain = delta.clip(lower=0)\n",
    "    loss = -delta.clip(upper=0)\n",
    "\n",
    "    avg_gain = gain.rolling(window=14).mean()\n",
    "    avg_loss = loss.rolling(window=14).mean()\n",
    "\n",
    "    rs = avg_gain / avg_loss\n",
    "    df['RSI_14'] = 100 - (100 / (1 + rs))\n",
    "\n",
    "    # Tính MACD (12 EMA - 26 EMA)\n",
    "    ema_12 = df['close'].ewm(span=12, adjust=False).mean()\n",
    "    ema_26 = df['close'].ewm(span=26, adjust=False).mean()\n",
    "    df['MACD'] = ema_12 - ema_26\n",
    "\n",
    "    # Loại bỏ NaN (phát sinh do rolling/EMA)\n",
    "    df.dropna(inplace=True)\n",
    "\n",
    "    # Sắp xếp theo ngày tăng dần\n",
    "    df = df.sort_values(by=\"date\").reset_index(drop=True)\n",
    "    return df\n"
   ]
  },
  {
   "cell_type": "code",
   "execution_count": 8,
   "id": "21415c7b",
   "metadata": {},
   "outputs": [],
   "source": [
    "symbols = [\"fpt\", \"hpg\", \"vnm\"]\n",
    "dfs = {}"
   ]
  },
  {
   "cell_type": "code",
   "execution_count": 9,
   "id": "9a21e6fa",
   "metadata": {},
   "outputs": [
    {
     "name": "stderr",
     "output_type": "stream",
     "text": [
      "2025-05-27 19:30:20,186 - INFO - ✅ Load CSV thành công: ../../data/clean/fpt.csv | shape = (4551, 6)\n",
      "2025-05-27 19:30:20,264 - INFO - ✅ Load CSV thành công: ../../data/clean/hpg.csv | shape = (4348, 6)\n",
      "2025-05-27 19:30:20,292 - INFO - ✅ Load CSV thành công: ../../data/clean/vnm.csv | shape = (4783, 6)\n"
     ]
    },
    {
     "name": "stdout",
     "output_type": "stream",
     "text": [
      "✅ FPT - Rows: 4521\n",
      "✅ HPG - Rows: 4318\n",
      "✅ VNM - Rows: 4753\n"
     ]
    }
   ],
   "source": [
    "for symbol in symbols:\n",
    "    raw_path = f\"../../data/clean/{symbol}.csv\"\n",
    "    df = load_csv(raw_path)\n",
    "    df_features = create_features(df)\n",
    "    dfs[symbol] = df_features\n",
    "    print(f\"✅ {symbol.upper()} - Rows: {df_features.shape[0]}\")\n"
   ]
  },
  {
   "cell_type": "code",
   "execution_count": 10,
   "id": "d2d240ac",
   "metadata": {},
   "outputs": [
    {
     "name": "stderr",
     "output_type": "stream",
     "text": [
      "2025-05-27 19:30:21,169 - INFO - 💾 Đã lưu dữ liệu thành công: ../../data/features/fpt_features.csv\n",
      "2025-05-27 19:30:21,219 - INFO - 💾 Đã lưu dữ liệu thành công: ../../data/features/hpg_features.csv\n",
      "2025-05-27 19:30:21,268 - INFO - 💾 Đã lưu dữ liệu thành công: ../../data/features/vnm_features.csv\n"
     ]
    },
    {
     "name": "stdout",
     "output_type": "stream",
     "text": [
      "💾 Saved: fpt_features.csv\n",
      "💾 Saved: hpg_features.csv\n",
      "💾 Saved: vnm_features.csv\n"
     ]
    }
   ],
   "source": [
    "for symbol in symbols:\n",
    "    save_data(dfs[symbol], f\"../../data/features/{symbol}_features.csv\")\n",
    "    print(f\"💾 Saved: {symbol}_features.csv\")"
   ]
  }
 ],
 "metadata": {
  "kernelspec": {
   "display_name": "Python 3",
   "language": "python",
   "name": "python3"
  },
  "language_info": {
   "codemirror_mode": {
    "name": "ipython",
    "version": 3
   },
   "file_extension": ".py",
   "mimetype": "text/x-python",
   "name": "python",
   "nbconvert_exporter": "python",
   "pygments_lexer": "ipython3",
   "version": "3.10.9"
  }
 },
 "nbformat": 4,
 "nbformat_minor": 5
}
