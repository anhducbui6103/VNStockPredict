{
 "cells": [
  {
   "cell_type": "code",
   "execution_count": 1,
   "id": "e34e3ccc",
   "metadata": {},
   "outputs": [],
   "source": [
    "import pandas as pd\n",
    "import numpy as np\n",
    "import sys\n",
    "sys.path.append(\"../utils\")\n",
    "\n",
    "from utils import load_csv, save_data"
   ]
  },
  {
   "cell_type": "code",
   "execution_count": 2,
   "id": "18190298",
   "metadata": {},
   "outputs": [],
   "source": [
    "def create_features(df: pd.DataFrame) -> pd.DataFrame:\n",
    "    df = df.copy()\n",
    "\n",
    "    df['EMA_9'] = df['close'].ewm(9).mean().shift()\n",
    "    df['SMA_5'] = df['close'].rolling(5).mean().shift()\n",
    "    df['SMA_10'] = df['close'].rolling(10).mean().shift()\n",
    "    df['SMA_15'] = df['close'].rolling(15).mean().shift()\n",
    "    df['SMA_30'] = df['close'].rolling(30).mean().shift()\n",
    "\n",
    "    df.dropna(inplace=True)\n",
    "    \n",
    "    # Sắp xếp theo ngày tăng dần\n",
    "    df = df.sort_values(by=\"date\").reset_index(drop=True)\n",
    "    return df"
   ]
  },
  {
   "cell_type": "code",
   "execution_count": 3,
   "id": "21415c7b",
   "metadata": {},
   "outputs": [],
   "source": [
    "symbols = [\"fpt\", \"hpg\", \"vnm\"]\n",
    "dfs = {}"
   ]
  },
  {
   "cell_type": "code",
   "execution_count": 4,
   "id": "9a21e6fa",
   "metadata": {},
   "outputs": [
    {
     "name": "stderr",
     "output_type": "stream",
     "text": [
      "2025-05-26 10:40:38,748 - INFO - ✅ Load CSV thành công: ../../data/clean/fpt.csv | shape = (4592, 6)\n"
     ]
    },
    {
     "name": "stderr",
     "output_type": "stream",
     "text": [
      "2025-05-26 10:40:38,809 - INFO - ✅ Load CSV thành công: ../../data/clean/hpg.csv | shape = (4363, 6)\n",
      "2025-05-26 10:40:38,834 - INFO - ✅ Load CSV thành công: ../../data/clean/vnm.csv | shape = (4818, 6)\n"
     ]
    },
    {
     "name": "stdout",
     "output_type": "stream",
     "text": [
      "✅ FPT - Rows: 4562\n",
      "✅ HPG - Rows: 4333\n",
      "✅ VNM - Rows: 4788\n"
     ]
    }
   ],
   "source": [
    "for symbol in symbols:\n",
    "    raw_path = f\"../../data/clean/{symbol}.csv\"\n",
    "    df = load_csv(raw_path)\n",
    "    df_features = create_features(df)\n",
    "    dfs[symbol] = df_features\n",
    "    print(f\"✅ {symbol.upper()} - Rows: {df_features.shape[0]}\")\n"
   ]
  },
  {
   "cell_type": "code",
   "execution_count": 5,
   "id": "d2d240ac",
   "metadata": {},
   "outputs": [
    {
     "name": "stderr",
     "output_type": "stream",
     "text": [
      "2025-05-26 10:40:40,597 - INFO - 💾 Đã lưu dữ liệu thành công: ../../data/features/fpt_features.csv\n",
      "2025-05-26 10:40:40,676 - INFO - 💾 Đã lưu dữ liệu thành công: ../../data/features/hpg_features.csv\n",
      "2025-05-26 10:40:40,727 - INFO - 💾 Đã lưu dữ liệu thành công: ../../data/features/vnm_features.csv\n"
     ]
    },
    {
     "name": "stdout",
     "output_type": "stream",
     "text": [
      "💾 Saved: fpt_features.csv\n",
      "💾 Saved: hpg_features.csv\n",
      "💾 Saved: vnm_features.csv\n"
     ]
    }
   ],
   "source": [
    "for symbol in symbols:\n",
    "    save_data(dfs[symbol], f\"../../data/features/{symbol}_features.csv\")\n",
    "    print(f\"💾 Saved: {symbol}_features.csv\")"
   ]
  }
 ],
 "metadata": {
  "kernelspec": {
   "display_name": "Python 3",
   "language": "python",
   "name": "python3"
  },
  "language_info": {
   "codemirror_mode": {
    "name": "ipython",
    "version": 3
   },
   "file_extension": ".py",
   "mimetype": "text/x-python",
   "name": "python",
   "nbconvert_exporter": "python",
   "pygments_lexer": "ipython3",
   "version": "3.10.9"
  }
 },
 "nbformat": 4,
 "nbformat_minor": 5
}
