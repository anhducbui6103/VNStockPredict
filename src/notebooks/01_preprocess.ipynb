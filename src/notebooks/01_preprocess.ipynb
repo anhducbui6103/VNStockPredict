{
 "cells": [
  {
   "cell_type": "code",
   "execution_count": 1,
   "id": "a64454a6",
   "metadata": {},
   "outputs": [],
   "source": [
    "import pandas as pd\n",
    "import sys\n",
    "sys.path.append(\"../utils\")\n",
    "\n",
    "from utils import load_csv, save_data"
   ]
  },
  {
   "cell_type": "code",
   "execution_count": 2,
   "id": "aab70060",
   "metadata": {},
   "outputs": [
    {
     "name": "stderr",
     "output_type": "stream",
     "text": [
      "2025-06-30 02:29:47,411 - INFO - ✅ Load CSV thành công: ../../data/raw/fpt.csv | shape = (4618, 6)\n"
     ]
    },
    {
     "data": {
      "text/html": [
       "<div>\n",
       "<style scoped>\n",
       "    .dataframe tbody tr th:only-of-type {\n",
       "        vertical-align: middle;\n",
       "    }\n",
       "\n",
       "    .dataframe tbody tr th {\n",
       "        vertical-align: top;\n",
       "    }\n",
       "\n",
       "    .dataframe thead th {\n",
       "        text-align: right;\n",
       "    }\n",
       "</style>\n",
       "<table border=\"1\" class=\"dataframe\">\n",
       "  <thead>\n",
       "    <tr style=\"text-align: right;\">\n",
       "      <th></th>\n",
       "      <th>date</th>\n",
       "      <th>open</th>\n",
       "      <th>high</th>\n",
       "      <th>low</th>\n",
       "      <th>close</th>\n",
       "      <th>volume</th>\n",
       "    </tr>\n",
       "  </thead>\n",
       "  <tbody>\n",
       "    <tr>\n",
       "      <th>0</th>\n",
       "      <td>NaN</td>\n",
       "      <td>NaN</td>\n",
       "      <td>NaN</td>\n",
       "      <td>NaN</td>\n",
       "      <td>NaN</td>\n",
       "      <td>NaN</td>\n",
       "    </tr>\n",
       "    <tr>\n",
       "      <th>1</th>\n",
       "      <td>27/06/2025</td>\n",
       "      <td>117,000</td>\n",
       "      <td>118,300</td>\n",
       "      <td>116,900</td>\n",
       "      <td>117,300</td>\n",
       "      <td>5,263,200</td>\n",
       "    </tr>\n",
       "    <tr>\n",
       "      <th>2</th>\n",
       "      <td>26/06/2025</td>\n",
       "      <td>118,000</td>\n",
       "      <td>118,300</td>\n",
       "      <td>116,600</td>\n",
       "      <td>117,000</td>\n",
       "      <td>4,132,300</td>\n",
       "    </tr>\n",
       "    <tr>\n",
       "      <th>3</th>\n",
       "      <td>25/06/2025</td>\n",
       "      <td>117,000</td>\n",
       "      <td>119,400</td>\n",
       "      <td>117,000</td>\n",
       "      <td>117,100</td>\n",
       "      <td>6,000,700</td>\n",
       "    </tr>\n",
       "    <tr>\n",
       "      <th>4</th>\n",
       "      <td>24/06/2025</td>\n",
       "      <td>116,300</td>\n",
       "      <td>117,000</td>\n",
       "      <td>116,300</td>\n",
       "      <td>116,500</td>\n",
       "      <td>4,271,900</td>\n",
       "    </tr>\n",
       "  </tbody>\n",
       "</table>\n",
       "</div>"
      ],
      "text/plain": [
       "         date     open     high      low    close     volume\n",
       "0         NaN      NaN      NaN      NaN      NaN        NaN\n",
       "1  27/06/2025  117,000  118,300  116,900  117,300  5,263,200\n",
       "2  26/06/2025  118,000  118,300  116,600  117,000  4,132,300\n",
       "3  25/06/2025  117,000  119,400  117,000  117,100  6,000,700\n",
       "4  24/06/2025  116,300  117,000  116,300  116,500  4,271,900"
      ]
     },
     "execution_count": 2,
     "metadata": {},
     "output_type": "execute_result"
    }
   ],
   "source": [
    "df = load_csv(\"../../data/raw/fpt.csv\")\n",
    "df.head()"
   ]
  },
  {
   "cell_type": "code",
   "execution_count": 3,
   "id": "ab7c9322",
   "metadata": {},
   "outputs": [
    {
     "data": {
      "text/plain": [
       "date      object\n",
       "open      object\n",
       "high      object\n",
       "low       object\n",
       "close     object\n",
       "volume    object\n",
       "dtype: object"
      ]
     },
     "execution_count": 3,
     "metadata": {},
     "output_type": "execute_result"
    }
   ],
   "source": [
    "df.dtypes"
   ]
  },
  {
   "cell_type": "code",
   "execution_count": 4,
   "id": "c88e1937",
   "metadata": {},
   "outputs": [],
   "source": [
    "def preprocess(df: pd.DataFrame) -> pd.DataFrame:\n",
    "    original_rows = len(df)\n",
    "\n",
    "    # Xoá các dòng toàn bộ là NaN hoặc chuỗi rỗng\n",
    "    df = df.dropna(how='all')\n",
    "    df = df[~(df.apply(lambda row: row.astype(str).str.strip().eq('').all(), axis=1))]\n",
    "    \n",
    "    # Chuẩn hóa tên cột\n",
    "    df.columns = [col.strip().lower().replace(\" \", \"_\") for col in df.columns]\n",
    "\n",
    "    # Xoá trùng lặp\n",
    "    df = df.drop_duplicates()\n",
    "\n",
    "    # Chuẩn hóa kiểu dữ liệu\n",
    "    df['date'] = pd.to_datetime(df['date'], format=\"%d/%m/%Y\")\n",
    "\n",
    "    for col in ['open', 'high', 'low', 'close']:\n",
    "        df[col] = df[col].str.replace(\",\", \"\").astype(float)\n",
    "        df[col] = (df[col] / 1000).round(2)\n",
    "    \n",
    "    df['volume'] = df['volume'].str.replace(\",\", \"\").astype(int)\n",
    "\n",
    "\n",
    "    # Điền missing\n",
    "    for col in df.columns:\n",
    "        if df[col].dtype in [int, float, float]:\n",
    "            df[col] = df[col].fillna(df[col].mean())\n",
    "        else:\n",
    "            df[col] = df[col].fillna(df[col].mode().iloc[0])\n",
    "\n",
    "    return df\n"
   ]
  },
  {
   "cell_type": "code",
   "execution_count": 5,
   "id": "0fcc3d78",
   "metadata": {},
   "outputs": [
    {
     "name": "stderr",
     "output_type": "stream",
     "text": [
      "2025-06-30 02:29:47,491 - INFO - ✅ Load CSV thành công: ../../data/raw/fpt.csv | shape = (4618, 6)\n",
      "2025-06-30 02:29:48,642 - INFO - ✅ Load CSV thành công: ../../data/raw/hpg.csv | shape = (4389, 6)\n"
     ]
    },
    {
     "name": "stdout",
     "output_type": "stream",
     "text": [
      "✅ FPT - Rows: 4617, Columns: 6\n"
     ]
    },
    {
     "name": "stderr",
     "output_type": "stream",
     "text": [
      "2025-06-30 02:29:49,712 - INFO - ✅ Load CSV thành công: ../../data/raw/vnm.csv | shape = (4844, 6)\n"
     ]
    },
    {
     "name": "stdout",
     "output_type": "stream",
     "text": [
      "✅ HPG - Rows: 4388, Columns: 6\n",
      "✅ VNM - Rows: 4843, Columns: 6\n"
     ]
    }
   ],
   "source": [
    "# Tạo danh sách mã cổ phiếu cần xử lý\n",
    "symbols = [\"fpt\", \"hpg\", \"vnm\"]\n",
    "dfs = {}\n",
    "\n",
    "# Lặp qua từng mã, load và tiền xử lý\n",
    "for symbol in symbols:\n",
    "    raw_path = f\"../../data/raw/{symbol}.csv\"\n",
    "    df = load_csv(raw_path)\n",
    "    df_clean = preprocess(df)\n",
    "    dfs[symbol] = df_clean\n",
    "    print(f\"✅ {symbol.upper()} - Rows: {df_clean.shape[0]}, Columns: {df_clean.shape[1]}\")\n"
   ]
  },
  {
   "cell_type": "code",
   "execution_count": 6,
   "id": "1d643f3b",
   "metadata": {},
   "outputs": [
    {
     "name": "stdout",
     "output_type": "stream",
     "text": [
      "\n",
      "FPT - Dữ liệu sau xử lý:\n"
     ]
    },
    {
     "data": {
      "text/html": [
       "<div>\n",
       "<style scoped>\n",
       "    .dataframe tbody tr th:only-of-type {\n",
       "        vertical-align: middle;\n",
       "    }\n",
       "\n",
       "    .dataframe tbody tr th {\n",
       "        vertical-align: top;\n",
       "    }\n",
       "\n",
       "    .dataframe thead th {\n",
       "        text-align: right;\n",
       "    }\n",
       "</style>\n",
       "<table border=\"1\" class=\"dataframe\">\n",
       "  <thead>\n",
       "    <tr style=\"text-align: right;\">\n",
       "      <th></th>\n",
       "      <th>date</th>\n",
       "      <th>open</th>\n",
       "      <th>high</th>\n",
       "      <th>low</th>\n",
       "      <th>close</th>\n",
       "      <th>volume</th>\n",
       "    </tr>\n",
       "  </thead>\n",
       "  <tbody>\n",
       "    <tr>\n",
       "      <th>1</th>\n",
       "      <td>2025-06-27</td>\n",
       "      <td>117.0</td>\n",
       "      <td>118.3</td>\n",
       "      <td>116.9</td>\n",
       "      <td>117.3</td>\n",
       "      <td>5263200</td>\n",
       "    </tr>\n",
       "    <tr>\n",
       "      <th>2</th>\n",
       "      <td>2025-06-26</td>\n",
       "      <td>118.0</td>\n",
       "      <td>118.3</td>\n",
       "      <td>116.6</td>\n",
       "      <td>117.0</td>\n",
       "      <td>4132300</td>\n",
       "    </tr>\n",
       "    <tr>\n",
       "      <th>3</th>\n",
       "      <td>2025-06-25</td>\n",
       "      <td>117.0</td>\n",
       "      <td>119.4</td>\n",
       "      <td>117.0</td>\n",
       "      <td>117.1</td>\n",
       "      <td>6000700</td>\n",
       "    </tr>\n",
       "    <tr>\n",
       "      <th>4</th>\n",
       "      <td>2025-06-24</td>\n",
       "      <td>116.3</td>\n",
       "      <td>117.0</td>\n",
       "      <td>116.3</td>\n",
       "      <td>116.5</td>\n",
       "      <td>4271900</td>\n",
       "    </tr>\n",
       "    <tr>\n",
       "      <th>5</th>\n",
       "      <td>2025-06-23</td>\n",
       "      <td>115.5</td>\n",
       "      <td>116.3</td>\n",
       "      <td>114.5</td>\n",
       "      <td>115.9</td>\n",
       "      <td>4587300</td>\n",
       "    </tr>\n",
       "  </tbody>\n",
       "</table>\n",
       "</div>"
      ],
      "text/plain": [
       "        date   open   high    low  close   volume\n",
       "1 2025-06-27  117.0  118.3  116.9  117.3  5263200\n",
       "2 2025-06-26  118.0  118.3  116.6  117.0  4132300\n",
       "3 2025-06-25  117.0  119.4  117.0  117.1  6000700\n",
       "4 2025-06-24  116.3  117.0  116.3  116.5  4271900\n",
       "5 2025-06-23  115.5  116.3  114.5  115.9  4587300"
      ]
     },
     "metadata": {},
     "output_type": "display_data"
    },
    {
     "name": "stdout",
     "output_type": "stream",
     "text": [
      "\n",
      "HPG - Dữ liệu sau xử lý:\n"
     ]
    },
    {
     "data": {
      "text/html": [
       "<div>\n",
       "<style scoped>\n",
       "    .dataframe tbody tr th:only-of-type {\n",
       "        vertical-align: middle;\n",
       "    }\n",
       "\n",
       "    .dataframe tbody tr th {\n",
       "        vertical-align: top;\n",
       "    }\n",
       "\n",
       "    .dataframe thead th {\n",
       "        text-align: right;\n",
       "    }\n",
       "</style>\n",
       "<table border=\"1\" class=\"dataframe\">\n",
       "  <thead>\n",
       "    <tr style=\"text-align: right;\">\n",
       "      <th></th>\n",
       "      <th>date</th>\n",
       "      <th>open</th>\n",
       "      <th>high</th>\n",
       "      <th>low</th>\n",
       "      <th>close</th>\n",
       "      <th>volume</th>\n",
       "    </tr>\n",
       "  </thead>\n",
       "  <tbody>\n",
       "    <tr>\n",
       "      <th>1</th>\n",
       "      <td>2025-06-27</td>\n",
       "      <td>22.95</td>\n",
       "      <td>22.95</td>\n",
       "      <td>22.75</td>\n",
       "      <td>22.85</td>\n",
       "      <td>16481800</td>\n",
       "    </tr>\n",
       "    <tr>\n",
       "      <th>2</th>\n",
       "      <td>2025-06-26</td>\n",
       "      <td>23.05</td>\n",
       "      <td>23.15</td>\n",
       "      <td>22.75</td>\n",
       "      <td>22.80</td>\n",
       "      <td>38371000</td>\n",
       "    </tr>\n",
       "    <tr>\n",
       "      <th>3</th>\n",
       "      <td>2025-06-25</td>\n",
       "      <td>22.58</td>\n",
       "      <td>22.88</td>\n",
       "      <td>22.46</td>\n",
       "      <td>22.67</td>\n",
       "      <td>45638801</td>\n",
       "    </tr>\n",
       "    <tr>\n",
       "      <th>4</th>\n",
       "      <td>2025-06-24</td>\n",
       "      <td>22.54</td>\n",
       "      <td>22.67</td>\n",
       "      <td>22.46</td>\n",
       "      <td>22.50</td>\n",
       "      <td>27870000</td>\n",
       "    </tr>\n",
       "    <tr>\n",
       "      <th>5</th>\n",
       "      <td>2025-06-23</td>\n",
       "      <td>22.38</td>\n",
       "      <td>22.50</td>\n",
       "      <td>22.17</td>\n",
       "      <td>22.38</td>\n",
       "      <td>24710800</td>\n",
       "    </tr>\n",
       "  </tbody>\n",
       "</table>\n",
       "</div>"
      ],
      "text/plain": [
       "        date   open   high    low  close    volume\n",
       "1 2025-06-27  22.95  22.95  22.75  22.85  16481800\n",
       "2 2025-06-26  23.05  23.15  22.75  22.80  38371000\n",
       "3 2025-06-25  22.58  22.88  22.46  22.67  45638801\n",
       "4 2025-06-24  22.54  22.67  22.46  22.50  27870000\n",
       "5 2025-06-23  22.38  22.50  22.17  22.38  24710800"
      ]
     },
     "metadata": {},
     "output_type": "display_data"
    },
    {
     "name": "stdout",
     "output_type": "stream",
     "text": [
      "\n",
      "VNM - Dữ liệu sau xử lý:\n"
     ]
    },
    {
     "data": {
      "text/html": [
       "<div>\n",
       "<style scoped>\n",
       "    .dataframe tbody tr th:only-of-type {\n",
       "        vertical-align: middle;\n",
       "    }\n",
       "\n",
       "    .dataframe tbody tr th {\n",
       "        vertical-align: top;\n",
       "    }\n",
       "\n",
       "    .dataframe thead th {\n",
       "        text-align: right;\n",
       "    }\n",
       "</style>\n",
       "<table border=\"1\" class=\"dataframe\">\n",
       "  <thead>\n",
       "    <tr style=\"text-align: right;\">\n",
       "      <th></th>\n",
       "      <th>date</th>\n",
       "      <th>open</th>\n",
       "      <th>high</th>\n",
       "      <th>low</th>\n",
       "      <th>close</th>\n",
       "      <th>volume</th>\n",
       "    </tr>\n",
       "  </thead>\n",
       "  <tbody>\n",
       "    <tr>\n",
       "      <th>1</th>\n",
       "      <td>2025-06-27</td>\n",
       "      <td>56.8</td>\n",
       "      <td>58.6</td>\n",
       "      <td>56.3</td>\n",
       "      <td>57.8</td>\n",
       "      <td>8895400</td>\n",
       "    </tr>\n",
       "    <tr>\n",
       "      <th>2</th>\n",
       "      <td>2025-06-26</td>\n",
       "      <td>56.8</td>\n",
       "      <td>57.0</td>\n",
       "      <td>56.3</td>\n",
       "      <td>56.4</td>\n",
       "      <td>3118900</td>\n",
       "    </tr>\n",
       "    <tr>\n",
       "      <th>3</th>\n",
       "      <td>2025-06-25</td>\n",
       "      <td>56.5</td>\n",
       "      <td>57.8</td>\n",
       "      <td>56.4</td>\n",
       "      <td>56.8</td>\n",
       "      <td>6268200</td>\n",
       "    </tr>\n",
       "    <tr>\n",
       "      <th>4</th>\n",
       "      <td>2025-06-24</td>\n",
       "      <td>56.2</td>\n",
       "      <td>56.5</td>\n",
       "      <td>56.1</td>\n",
       "      <td>56.4</td>\n",
       "      <td>2803800</td>\n",
       "    </tr>\n",
       "    <tr>\n",
       "      <th>5</th>\n",
       "      <td>2025-06-23</td>\n",
       "      <td>56.0</td>\n",
       "      <td>56.4</td>\n",
       "      <td>55.8</td>\n",
       "      <td>55.9</td>\n",
       "      <td>3022700</td>\n",
       "    </tr>\n",
       "  </tbody>\n",
       "</table>\n",
       "</div>"
      ],
      "text/plain": [
       "        date  open  high   low  close   volume\n",
       "1 2025-06-27  56.8  58.6  56.3   57.8  8895400\n",
       "2 2025-06-26  56.8  57.0  56.3   56.4  3118900\n",
       "3 2025-06-25  56.5  57.8  56.4   56.8  6268200\n",
       "4 2025-06-24  56.2  56.5  56.1   56.4  2803800\n",
       "5 2025-06-23  56.0  56.4  55.8   55.9  3022700"
      ]
     },
     "metadata": {},
     "output_type": "display_data"
    }
   ],
   "source": [
    "# Hiển thị 5 dòng đầu tiên của mỗi mã cổ phiếu\n",
    "for symbol in symbols:\n",
    "    print(f\"\\n{symbol.upper()} - Dữ liệu sau xử lý:\")\n",
    "    display(dfs[symbol].head())"
   ]
  },
  {
   "cell_type": "code",
   "execution_count": 7,
   "id": "9aa36a86",
   "metadata": {},
   "outputs": [
    {
     "name": "stderr",
     "output_type": "stream",
     "text": [
      "2025-06-30 02:29:50,933 - INFO - 💾 Đã lưu dữ liệu thành công: ../../data/clean/fpt.csv\n",
      "2025-06-30 02:29:50,955 - INFO - 💾 Đã lưu dữ liệu thành công: ../../data/clean/hpg.csv\n",
      "2025-06-30 02:29:50,975 - INFO - 💾 Đã lưu dữ liệu thành công: ../../data/clean/vnm.csv\n"
     ]
    }
   ],
   "source": [
    "# Save\n",
    "for symbol in symbols:\n",
    "    path = f\"../../data/clean/{symbol}.csv\"\n",
    "    save_data(dfs[symbol], f\"../../data/clean/{symbol}.csv\")"
   ]
  }
 ],
 "metadata": {
  "kernelspec": {
   "display_name": "Python 3",
   "language": "python",
   "name": "python3"
  },
  "language_info": {
   "codemirror_mode": {
    "name": "ipython",
    "version": 3
   },
   "file_extension": ".py",
   "mimetype": "text/x-python",
   "name": "python",
   "nbconvert_exporter": "python",
   "pygments_lexer": "ipython3",
   "version": "3.10.9"
  }
 },
 "nbformat": 4,
 "nbformat_minor": 5
}
