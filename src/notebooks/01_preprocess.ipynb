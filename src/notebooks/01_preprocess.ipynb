{
 "cells": [
  {
   "cell_type": "code",
   "execution_count": 1,
   "id": "a64454a6",
   "metadata": {},
   "outputs": [],
   "source": [
    "import pandas as pd\n",
    "import sys\n",
    "sys.path.append(\"../utils\")\n",
    "\n",
    "from utils import load_csv, save_data"
   ]
  },
  {
   "cell_type": "code",
   "execution_count": 7,
   "id": "aab70060",
   "metadata": {},
   "outputs": [
    {
     "name": "stderr",
     "output_type": "stream",
     "text": [
      "2025-05-26 10:39:12,128 - INFO - ✅ Load CSV thành công: ../../data/raw/fpt.csv | shape = (4593, 6)\n"
     ]
    },
    {
     "data": {
      "text/html": [
       "<div>\n",
       "<style scoped>\n",
       "    .dataframe tbody tr th:only-of-type {\n",
       "        vertical-align: middle;\n",
       "    }\n",
       "\n",
       "    .dataframe tbody tr th {\n",
       "        vertical-align: top;\n",
       "    }\n",
       "\n",
       "    .dataframe thead th {\n",
       "        text-align: right;\n",
       "    }\n",
       "</style>\n",
       "<table border=\"1\" class=\"dataframe\">\n",
       "  <thead>\n",
       "    <tr style=\"text-align: right;\">\n",
       "      <th></th>\n",
       "      <th>date</th>\n",
       "      <th>open</th>\n",
       "      <th>high</th>\n",
       "      <th>low</th>\n",
       "      <th>close</th>\n",
       "      <th>volume</th>\n",
       "    </tr>\n",
       "  </thead>\n",
       "  <tbody>\n",
       "    <tr>\n",
       "      <th>0</th>\n",
       "      <td>NaN</td>\n",
       "      <td>NaN</td>\n",
       "      <td>NaN</td>\n",
       "      <td>NaN</td>\n",
       "      <td>NaN</td>\n",
       "      <td>NaN</td>\n",
       "    </tr>\n",
       "    <tr>\n",
       "      <th>1</th>\n",
       "      <td>23/05/2025</td>\n",
       "      <td>116,700</td>\n",
       "      <td>117,800</td>\n",
       "      <td>116,000</td>\n",
       "      <td>117,100</td>\n",
       "      <td>4,440,500</td>\n",
       "    </tr>\n",
       "    <tr>\n",
       "      <th>2</th>\n",
       "      <td>22/05/2025</td>\n",
       "      <td>117,100</td>\n",
       "      <td>117,600</td>\n",
       "      <td>115,600</td>\n",
       "      <td>116,800</td>\n",
       "      <td>6,350,700</td>\n",
       "    </tr>\n",
       "    <tr>\n",
       "      <th>3</th>\n",
       "      <td>21/05/2025</td>\n",
       "      <td>120,000</td>\n",
       "      <td>120,000</td>\n",
       "      <td>117,000</td>\n",
       "      <td>118,300</td>\n",
       "      <td>6,024,400</td>\n",
       "    </tr>\n",
       "    <tr>\n",
       "      <th>4</th>\n",
       "      <td>20/05/2025</td>\n",
       "      <td>116,800</td>\n",
       "      <td>119,300</td>\n",
       "      <td>116,800</td>\n",
       "      <td>119,200</td>\n",
       "      <td>7,911,300</td>\n",
       "    </tr>\n",
       "  </tbody>\n",
       "</table>\n",
       "</div>"
      ],
      "text/plain": [
       "         date     open     high      low    close     volume\n",
       "0         NaN      NaN      NaN      NaN      NaN        NaN\n",
       "1  23/05/2025  116,700  117,800  116,000  117,100  4,440,500\n",
       "2  22/05/2025  117,100  117,600  115,600  116,800  6,350,700\n",
       "3  21/05/2025  120,000  120,000  117,000  118,300  6,024,400\n",
       "4  20/05/2025  116,800  119,300  116,800  119,200  7,911,300"
      ]
     },
     "execution_count": 7,
     "metadata": {},
     "output_type": "execute_result"
    }
   ],
   "source": [
    "df = load_csv(\"../../data/raw/fpt.csv\")\n",
    "df.head()"
   ]
  },
  {
   "cell_type": "code",
   "execution_count": 8,
   "id": "ab7c9322",
   "metadata": {},
   "outputs": [
    {
     "data": {
      "text/plain": [
       "date      object\n",
       "open      object\n",
       "high      object\n",
       "low       object\n",
       "close     object\n",
       "volume    object\n",
       "dtype: object"
      ]
     },
     "execution_count": 8,
     "metadata": {},
     "output_type": "execute_result"
    }
   ],
   "source": [
    "df.dtypes"
   ]
  },
  {
   "cell_type": "code",
   "execution_count": 9,
   "id": "c88e1937",
   "metadata": {},
   "outputs": [],
   "source": [
    "def preprocess(df: pd.DataFrame) -> pd.DataFrame:\n",
    "    original_rows = len(df)\n",
    "\n",
    "    # Xoá các dòng toàn bộ là NaN hoặc chuỗi rỗng\n",
    "    df = df.dropna(how='all')\n",
    "    df = df[~(df.apply(lambda row: row.astype(str).str.strip().eq('').all(), axis=1))]\n",
    "    \n",
    "    # Chuẩn hóa tên cột\n",
    "    df.columns = [col.strip().lower().replace(\" \", \"_\") for col in df.columns]\n",
    "\n",
    "    # Xoá trùng lặp\n",
    "    df = df.drop_duplicates()\n",
    "\n",
    "    # Chuẩn hóa kiểu dữ liệu\n",
    "    df['date'] = pd.to_datetime(df['date'], format=\"%d/%m/%Y\")\n",
    "\n",
    "    for col in ['open', 'high', 'low', 'close']:\n",
    "        df[col] = df[col].str.replace(\",\", \"\").astype(float)\n",
    "        df[col] = (df[col] / 1000).round(2)\n",
    "\n",
    "    df['volume'] = df['volume'].str.replace(\",\", \"\").astype(int)\n",
    "\n",
    "\n",
    "    # Điền missing\n",
    "    for col in df.columns:\n",
    "        if df[col].dtype in [int, float, float]:\n",
    "            df[col] = df[col].fillna(df[col].mean())\n",
    "        else:\n",
    "            df[col] = df[col].fillna(df[col].mode().iloc[0])\n",
    "\n",
    "    return df\n"
   ]
  },
  {
   "cell_type": "code",
   "execution_count": 10,
   "id": "0fcc3d78",
   "metadata": {},
   "outputs": [
    {
     "name": "stderr",
     "output_type": "stream",
     "text": [
      "2025-05-26 10:39:19,202 - INFO - ✅ Load CSV thành công: ../../data/raw/fpt.csv | shape = (4593, 6)\n"
     ]
    },
    {
     "name": "stderr",
     "output_type": "stream",
     "text": [
      "2025-05-26 10:39:20,487 - INFO - ✅ Load CSV thành công: ../../data/raw/hpg.csv | shape = (4364, 6)\n"
     ]
    },
    {
     "name": "stdout",
     "output_type": "stream",
     "text": [
      "✅ FPT - Rows: 4592, Columns: 6\n"
     ]
    },
    {
     "name": "stderr",
     "output_type": "stream",
     "text": [
      "2025-05-26 10:39:21,525 - INFO - ✅ Load CSV thành công: ../../data/raw/vnm.csv | shape = (4819, 6)\n"
     ]
    },
    {
     "name": "stdout",
     "output_type": "stream",
     "text": [
      "✅ HPG - Rows: 4363, Columns: 6\n",
      "✅ VNM - Rows: 4818, Columns: 6\n"
     ]
    }
   ],
   "source": [
    "# Tạo danh sách mã cổ phiếu cần xử lý\n",
    "symbols = [\"fpt\", \"hpg\", \"vnm\"]\n",
    "dfs = {}\n",
    "\n",
    "# Lặp qua từng mã, load và tiền xử lý\n",
    "for symbol in symbols:\n",
    "    raw_path = f\"../../data/raw/{symbol}.csv\"\n",
    "    df = load_csv(raw_path)\n",
    "    df_clean = preprocess(df)\n",
    "    dfs[symbol] = df_clean\n",
    "    print(f\"✅ {symbol.upper()} - Rows: {df_clean.shape[0]}, Columns: {df_clean.shape[1]}\")\n"
   ]
  },
  {
   "cell_type": "code",
   "execution_count": 11,
   "id": "1d643f3b",
   "metadata": {},
   "outputs": [
    {
     "name": "stdout",
     "output_type": "stream",
     "text": [
      "\n",
      "FPT - Dữ liệu sau xử lý:\n"
     ]
    },
    {
     "data": {
      "text/html": [
       "<div>\n",
       "<style scoped>\n",
       "    .dataframe tbody tr th:only-of-type {\n",
       "        vertical-align: middle;\n",
       "    }\n",
       "\n",
       "    .dataframe tbody tr th {\n",
       "        vertical-align: top;\n",
       "    }\n",
       "\n",
       "    .dataframe thead th {\n",
       "        text-align: right;\n",
       "    }\n",
       "</style>\n",
       "<table border=\"1\" class=\"dataframe\">\n",
       "  <thead>\n",
       "    <tr style=\"text-align: right;\">\n",
       "      <th></th>\n",
       "      <th>date</th>\n",
       "      <th>open</th>\n",
       "      <th>high</th>\n",
       "      <th>low</th>\n",
       "      <th>close</th>\n",
       "      <th>volume</th>\n",
       "    </tr>\n",
       "  </thead>\n",
       "  <tbody>\n",
       "    <tr>\n",
       "      <th>1</th>\n",
       "      <td>2025-05-23</td>\n",
       "      <td>116.7</td>\n",
       "      <td>117.8</td>\n",
       "      <td>116.0</td>\n",
       "      <td>117.1</td>\n",
       "      <td>4440500</td>\n",
       "    </tr>\n",
       "    <tr>\n",
       "      <th>2</th>\n",
       "      <td>2025-05-22</td>\n",
       "      <td>117.1</td>\n",
       "      <td>117.6</td>\n",
       "      <td>115.6</td>\n",
       "      <td>116.8</td>\n",
       "      <td>6350700</td>\n",
       "    </tr>\n",
       "    <tr>\n",
       "      <th>3</th>\n",
       "      <td>2025-05-21</td>\n",
       "      <td>120.0</td>\n",
       "      <td>120.0</td>\n",
       "      <td>117.0</td>\n",
       "      <td>118.3</td>\n",
       "      <td>6024400</td>\n",
       "    </tr>\n",
       "    <tr>\n",
       "      <th>4</th>\n",
       "      <td>2025-05-20</td>\n",
       "      <td>116.8</td>\n",
       "      <td>119.3</td>\n",
       "      <td>116.8</td>\n",
       "      <td>119.2</td>\n",
       "      <td>7911300</td>\n",
       "    </tr>\n",
       "    <tr>\n",
       "      <th>5</th>\n",
       "      <td>2025-05-19</td>\n",
       "      <td>118.8</td>\n",
       "      <td>120.5</td>\n",
       "      <td>116.6</td>\n",
       "      <td>118.2</td>\n",
       "      <td>9916700</td>\n",
       "    </tr>\n",
       "  </tbody>\n",
       "</table>\n",
       "</div>"
      ],
      "text/plain": [
       "        date   open   high    low  close   volume\n",
       "1 2025-05-23  116.7  117.8  116.0  117.1  4440500\n",
       "2 2025-05-22  117.1  117.6  115.6  116.8  6350700\n",
       "3 2025-05-21  120.0  120.0  117.0  118.3  6024400\n",
       "4 2025-05-20  116.8  119.3  116.8  119.2  7911300\n",
       "5 2025-05-19  118.8  120.5  116.6  118.2  9916700"
      ]
     },
     "metadata": {},
     "output_type": "display_data"
    },
    {
     "name": "stdout",
     "output_type": "stream",
     "text": [
      "\n",
      "HPG - Dữ liệu sau xử lý:\n"
     ]
    },
    {
     "data": {
      "text/html": [
       "<div>\n",
       "<style scoped>\n",
       "    .dataframe tbody tr th:only-of-type {\n",
       "        vertical-align: middle;\n",
       "    }\n",
       "\n",
       "    .dataframe tbody tr th {\n",
       "        vertical-align: top;\n",
       "    }\n",
       "\n",
       "    .dataframe thead th {\n",
       "        text-align: right;\n",
       "    }\n",
       "</style>\n",
       "<table border=\"1\" class=\"dataframe\">\n",
       "  <thead>\n",
       "    <tr style=\"text-align: right;\">\n",
       "      <th></th>\n",
       "      <th>date</th>\n",
       "      <th>open</th>\n",
       "      <th>high</th>\n",
       "      <th>low</th>\n",
       "      <th>close</th>\n",
       "      <th>volume</th>\n",
       "    </tr>\n",
       "  </thead>\n",
       "  <tbody>\n",
       "    <tr>\n",
       "      <th>1</th>\n",
       "      <td>2025-05-23</td>\n",
       "      <td>25.75</td>\n",
       "      <td>25.85</td>\n",
       "      <td>25.55</td>\n",
       "      <td>25.60</td>\n",
       "      <td>11096000</td>\n",
       "    </tr>\n",
       "    <tr>\n",
       "      <th>2</th>\n",
       "      <td>2025-05-22</td>\n",
       "      <td>25.75</td>\n",
       "      <td>25.95</td>\n",
       "      <td>25.55</td>\n",
       "      <td>25.65</td>\n",
       "      <td>24363700</td>\n",
       "    </tr>\n",
       "    <tr>\n",
       "      <th>3</th>\n",
       "      <td>2025-05-21</td>\n",
       "      <td>25.75</td>\n",
       "      <td>26.10</td>\n",
       "      <td>25.65</td>\n",
       "      <td>25.75</td>\n",
       "      <td>20150500</td>\n",
       "    </tr>\n",
       "    <tr>\n",
       "      <th>4</th>\n",
       "      <td>2025-05-20</td>\n",
       "      <td>25.60</td>\n",
       "      <td>25.80</td>\n",
       "      <td>25.60</td>\n",
       "      <td>25.65</td>\n",
       "      <td>17449000</td>\n",
       "    </tr>\n",
       "    <tr>\n",
       "      <th>5</th>\n",
       "      <td>2025-05-19</td>\n",
       "      <td>25.75</td>\n",
       "      <td>25.95</td>\n",
       "      <td>25.55</td>\n",
       "      <td>25.65</td>\n",
       "      <td>14995700</td>\n",
       "    </tr>\n",
       "  </tbody>\n",
       "</table>\n",
       "</div>"
      ],
      "text/plain": [
       "        date   open   high    low  close    volume\n",
       "1 2025-05-23  25.75  25.85  25.55  25.60  11096000\n",
       "2 2025-05-22  25.75  25.95  25.55  25.65  24363700\n",
       "3 2025-05-21  25.75  26.10  25.65  25.75  20150500\n",
       "4 2025-05-20  25.60  25.80  25.60  25.65  17449000\n",
       "5 2025-05-19  25.75  25.95  25.55  25.65  14995700"
      ]
     },
     "metadata": {},
     "output_type": "display_data"
    },
    {
     "name": "stdout",
     "output_type": "stream",
     "text": [
      "\n",
      "VNM - Dữ liệu sau xử lý:\n"
     ]
    },
    {
     "data": {
      "text/html": [
       "<div>\n",
       "<style scoped>\n",
       "    .dataframe tbody tr th:only-of-type {\n",
       "        vertical-align: middle;\n",
       "    }\n",
       "\n",
       "    .dataframe tbody tr th {\n",
       "        vertical-align: top;\n",
       "    }\n",
       "\n",
       "    .dataframe thead th {\n",
       "        text-align: right;\n",
       "    }\n",
       "</style>\n",
       "<table border=\"1\" class=\"dataframe\">\n",
       "  <thead>\n",
       "    <tr style=\"text-align: right;\">\n",
       "      <th></th>\n",
       "      <th>date</th>\n",
       "      <th>open</th>\n",
       "      <th>high</th>\n",
       "      <th>low</th>\n",
       "      <th>close</th>\n",
       "      <th>volume</th>\n",
       "    </tr>\n",
       "  </thead>\n",
       "  <tbody>\n",
       "    <tr>\n",
       "      <th>1</th>\n",
       "      <td>2025-05-23</td>\n",
       "      <td>55.2</td>\n",
       "      <td>55.5</td>\n",
       "      <td>55.1</td>\n",
       "      <td>55.3</td>\n",
       "      <td>1666700</td>\n",
       "    </tr>\n",
       "    <tr>\n",
       "      <th>2</th>\n",
       "      <td>2025-05-22</td>\n",
       "      <td>55.4</td>\n",
       "      <td>55.6</td>\n",
       "      <td>55.0</td>\n",
       "      <td>55.0</td>\n",
       "      <td>2665200</td>\n",
       "    </tr>\n",
       "    <tr>\n",
       "      <th>3</th>\n",
       "      <td>2025-05-21</td>\n",
       "      <td>56.0</td>\n",
       "      <td>56.0</td>\n",
       "      <td>55.4</td>\n",
       "      <td>55.4</td>\n",
       "      <td>4464400</td>\n",
       "    </tr>\n",
       "    <tr>\n",
       "      <th>4</th>\n",
       "      <td>2025-05-20</td>\n",
       "      <td>56.1</td>\n",
       "      <td>56.3</td>\n",
       "      <td>55.8</td>\n",
       "      <td>55.9</td>\n",
       "      <td>3224100</td>\n",
       "    </tr>\n",
       "    <tr>\n",
       "      <th>5</th>\n",
       "      <td>2025-05-19</td>\n",
       "      <td>56.2</td>\n",
       "      <td>57.0</td>\n",
       "      <td>56.0</td>\n",
       "      <td>56.0</td>\n",
       "      <td>2795600</td>\n",
       "    </tr>\n",
       "  </tbody>\n",
       "</table>\n",
       "</div>"
      ],
      "text/plain": [
       "        date  open  high   low  close   volume\n",
       "1 2025-05-23  55.2  55.5  55.1   55.3  1666700\n",
       "2 2025-05-22  55.4  55.6  55.0   55.0  2665200\n",
       "3 2025-05-21  56.0  56.0  55.4   55.4  4464400\n",
       "4 2025-05-20  56.1  56.3  55.8   55.9  3224100\n",
       "5 2025-05-19  56.2  57.0  56.0   56.0  2795600"
      ]
     },
     "metadata": {},
     "output_type": "display_data"
    }
   ],
   "source": [
    "# Hiển thị 5 dòng đầu tiên của mỗi mã cổ phiếu\n",
    "for symbol in symbols:\n",
    "    print(f\"\\n{symbol.upper()} - Dữ liệu sau xử lý:\")\n",
    "    display(dfs[symbol].head())\n"
   ]
  },
  {
   "cell_type": "code",
   "execution_count": 12,
   "id": "9aa36a86",
   "metadata": {},
   "outputs": [
    {
     "name": "stderr",
     "output_type": "stream",
     "text": [
      "2025-05-26 10:39:37,305 - INFO - 💾 Đã lưu dữ liệu thành công: ../../data/clean/fpt.csv\n",
      "2025-05-26 10:39:37,375 - INFO - 💾 Đã lưu dữ liệu thành công: ../../data/clean/hpg.csv\n",
      "2025-05-26 10:39:37,411 - INFO - 💾 Đã lưu dữ liệu thành công: ../../data/clean/vnm.csv\n"
     ]
    }
   ],
   "source": [
    "# Save\n",
    "for symbol in symbols:\n",
    "    path = f\"../../data/clean/{symbol}.csv\"\n",
    "    save_data(dfs[symbol], f\"../../data/clean/{symbol}.csv\")"
   ]
  },
  {
   "cell_type": "code",
   "execution_count": null,
   "id": "8f08d513",
   "metadata": {},
   "outputs": [],
   "source": [
    "%pip install pymongo\n",
    "from pymongo import MongoClient, errors"
   ]
  },
  {
   "cell_type": "code",
   "execution_count": 14,
   "id": "99fce13d",
   "metadata": {},
   "outputs": [
    {
     "name": "stdout",
     "output_type": "stream",
     "text": [
      "Symbol FPT: đã thêm 4592 bản ghi mới.\n",
      "Symbol HPG: đã thêm 4363 bản ghi mới.\n",
      "Symbol VNM: đã thêm 4818 bản ghi mới.\n"
     ]
    }
   ],
   "source": [
    "# Kết nối MongoDB\n",
    "client = MongoClient(\"mongodb://localhost:27017/\")\n",
    "db = client['vn_project']\n",
    "\n",
    "for symbol in symbols:\n",
    "    collection = db[symbol]\n",
    "\n",
    "    # Đảm bảo 'date' là unique (chỉnh lại nếu bạn dùng cột khác làm unique)\n",
    "    collection.create_index('date', unique=True)\n",
    "\n",
    "    records = dfs[symbol].to_dict(orient='records')\n",
    "    \n",
    "    success = 0\n",
    "    for record in records:\n",
    "        try:\n",
    "            collection.insert_one(record)\n",
    "            success += 1\n",
    "        except errors.DuplicateKeyError:\n",
    "            continue  # Bỏ qua bản ghi đã tồn tại\n",
    "\n",
    "    print(f\"Symbol {symbol.upper()}: đã thêm {success} bản ghi mới.\")\n"
   ]
  }
 ],
 "metadata": {
  "kernelspec": {
   "display_name": "Python 3",
   "language": "python",
   "name": "python3"
  },
  "language_info": {
   "codemirror_mode": {
    "name": "ipython",
    "version": 3
   },
   "file_extension": ".py",
   "mimetype": "text/x-python",
   "name": "python",
   "nbconvert_exporter": "python",
   "pygments_lexer": "ipython3",
   "version": "3.10.9"
  }
 },
 "nbformat": 4,
 "nbformat_minor": 5
}
