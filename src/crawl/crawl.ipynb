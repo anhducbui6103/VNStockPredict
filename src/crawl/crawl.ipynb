{
 "cells": [
  {
   "cell_type": "markdown",
   "id": "a4ef2618",
   "metadata": {},
   "source": [
    "### 1. Cài đặt và nhập thư viện"
   ]
  },
  {
   "cell_type": "code",
   "execution_count": 9,
   "id": "91566916",
   "metadata": {},
   "outputs": [
    {
     "name": "stdout",
     "output_type": "stream",
     "text": [
      "Requirement already satisfied: selenium in c:\\users\\admin\\appdata\\local\\programs\\python\\python310\\lib\\site-packages (4.32.0)\n",
      "Requirement already satisfied: trio-websocket~=0.9 in c:\\users\\admin\\appdata\\local\\programs\\python\\python310\\lib\\site-packages (from selenium) (0.12.2)\n",
      "Requirement already satisfied: websocket-client~=1.8 in c:\\users\\admin\\appdata\\local\\programs\\python\\python310\\lib\\site-packages (from selenium) (1.8.0)\n",
      "Requirement already satisfied: typing_extensions~=4.9 in c:\\users\\admin\\appdata\\roaming\\python\\python310\\site-packages (from selenium) (4.13.2)\n",
      "Requirement already satisfied: certifi>=2021.10.8 in c:\\users\\admin\\appdata\\local\\programs\\python\\python310\\lib\\site-packages (from selenium) (2025.4.26)\n",
      "Requirement already satisfied: trio~=0.17 in c:\\users\\admin\\appdata\\local\\programs\\python\\python310\\lib\\site-packages (from selenium) (0.30.0)\n",
      "Requirement already satisfied: urllib3[socks]<3,>=1.26 in c:\\users\\admin\\appdata\\local\\programs\\python\\python310\\lib\\site-packages (from selenium) (2.4.0)\n",
      "Requirement already satisfied: cffi>=1.14 in c:\\users\\admin\\appdata\\local\\programs\\python\\python310\\lib\\site-packages (from trio~=0.17->selenium) (1.17.1)\n",
      "Requirement already satisfied: exceptiongroup in c:\\users\\admin\\appdata\\roaming\\python\\python310\\site-packages (from trio~=0.17->selenium) (1.3.0)\n",
      "Requirement already satisfied: sniffio>=1.3.0 in c:\\users\\admin\\appdata\\local\\programs\\python\\python310\\lib\\site-packages (from trio~=0.17->selenium) (1.3.1)\n",
      "Requirement already satisfied: sortedcontainers in c:\\users\\admin\\appdata\\local\\programs\\python\\python310\\lib\\site-packages (from trio~=0.17->selenium) (2.4.0)\n",
      "Requirement already satisfied: attrs>=23.2.0 in c:\\users\\admin\\appdata\\local\\programs\\python\\python310\\lib\\site-packages (from trio~=0.17->selenium) (25.3.0)\n",
      "Requirement already satisfied: idna in c:\\users\\admin\\appdata\\local\\programs\\python\\python310\\lib\\site-packages (from trio~=0.17->selenium) (3.10)\n",
      "Requirement already satisfied: outcome in c:\\users\\admin\\appdata\\local\\programs\\python\\python310\\lib\\site-packages (from trio~=0.17->selenium) (1.3.0.post0)\n",
      "Requirement already satisfied: wsproto>=0.14 in c:\\users\\admin\\appdata\\local\\programs\\python\\python310\\lib\\site-packages (from trio-websocket~=0.9->selenium) (1.2.0)\n",
      "Requirement already satisfied: pysocks!=1.5.7,<2.0,>=1.5.6 in c:\\users\\admin\\appdata\\local\\programs\\python\\python310\\lib\\site-packages (from urllib3[socks]<3,>=1.26->selenium) (1.7.1)\n",
      "Requirement already satisfied: pycparser in c:\\users\\admin\\appdata\\local\\programs\\python\\python310\\lib\\site-packages (from cffi>=1.14->trio~=0.17->selenium) (2.22)\n",
      "Requirement already satisfied: h11<1,>=0.9.0 in c:\\users\\admin\\appdata\\local\\programs\\python\\python310\\lib\\site-packages (from wsproto>=0.14->trio-websocket~=0.9->selenium) (0.16.0)\n",
      "Note: you may need to restart the kernel to use updated packages.\n"
     ]
    },
    {
     "name": "stderr",
     "output_type": "stream",
     "text": [
      "\n",
      "[notice] A new release of pip available: 22.3.1 -> 25.1.1\n",
      "[notice] To update, run: python.exe -m pip install --upgrade pip\n"
     ]
    },
    {
     "name": "stdout",
     "output_type": "stream",
     "text": [
      "Requirement already satisfied: selenium-stealth in c:\\users\\admin\\appdata\\local\\programs\\python\\python310\\lib\\site-packages (1.0.6)\n",
      "Requirement already satisfied: selenium in c:\\users\\admin\\appdata\\local\\programs\\python\\python310\\lib\\site-packages (from selenium-stealth) (4.32.0)\n",
      "Requirement already satisfied: certifi>=2021.10.8 in c:\\users\\admin\\appdata\\local\\programs\\python\\python310\\lib\\site-packages (from selenium->selenium-stealth) (2025.4.26)\n",
      "Requirement already satisfied: trio~=0.17 in c:\\users\\admin\\appdata\\local\\programs\\python\\python310\\lib\\site-packages (from selenium->selenium-stealth) (0.30.0)\n",
      "Requirement already satisfied: trio-websocket~=0.9 in c:\\users\\admin\\appdata\\local\\programs\\python\\python310\\lib\\site-packages (from selenium->selenium-stealth) (0.12.2)\n",
      "Requirement already satisfied: websocket-client~=1.8 in c:\\users\\admin\\appdata\\local\\programs\\python\\python310\\lib\\site-packages (from selenium->selenium-stealth) (1.8.0)\n",
      "Requirement already satisfied: urllib3[socks]<3,>=1.26 in c:\\users\\admin\\appdata\\local\\programs\\python\\python310\\lib\\site-packages (from selenium->selenium-stealth) (2.4.0)\n",
      "Requirement already satisfied: typing_extensions~=4.9 in c:\\users\\admin\\appdata\\roaming\\python\\python310\\site-packages (from selenium->selenium-stealth) (4.13.2)\n",
      "Requirement already satisfied: idna in c:\\users\\admin\\appdata\\local\\programs\\python\\python310\\lib\\site-packages (from trio~=0.17->selenium->selenium-stealth) (3.10)\n",
      "Requirement already satisfied: outcome in c:\\users\\admin\\appdata\\local\\programs\\python\\python310\\lib\\site-packages (from trio~=0.17->selenium->selenium-stealth) (1.3.0.post0)\n",
      "Requirement already satisfied: sortedcontainers in c:\\users\\admin\\appdata\\local\\programs\\python\\python310\\lib\\site-packages (from trio~=0.17->selenium->selenium-stealth) (2.4.0)\n",
      "Requirement already satisfied: exceptiongroup in c:\\users\\admin\\appdata\\roaming\\python\\python310\\site-packages (from trio~=0.17->selenium->selenium-stealth) (1.3.0)\n",
      "Requirement already satisfied: sniffio>=1.3.0 in c:\\users\\admin\\appdata\\local\\programs\\python\\python310\\lib\\site-packages (from trio~=0.17->selenium->selenium-stealth) (1.3.1)\n",
      "Requirement already satisfied: cffi>=1.14 in c:\\users\\admin\\appdata\\local\\programs\\python\\python310\\lib\\site-packages (from trio~=0.17->selenium->selenium-stealth) (1.17.1)\n",
      "Requirement already satisfied: attrs>=23.2.0 in c:\\users\\admin\\appdata\\local\\programs\\python\\python310\\lib\\site-packages (from trio~=0.17->selenium->selenium-stealth) (25.3.0)\n",
      "Requirement already satisfied: wsproto>=0.14 in c:\\users\\admin\\appdata\\local\\programs\\python\\python310\\lib\\site-packages (from trio-websocket~=0.9->selenium->selenium-stealth) (1.2.0)\n",
      "Requirement already satisfied: pysocks!=1.5.7,<2.0,>=1.5.6 in c:\\users\\admin\\appdata\\local\\programs\\python\\python310\\lib\\site-packages (from urllib3[socks]<3,>=1.26->selenium->selenium-stealth) (1.7.1)\n",
      "Requirement already satisfied: pycparser in c:\\users\\admin\\appdata\\local\\programs\\python\\python310\\lib\\site-packages (from cffi>=1.14->trio~=0.17->selenium->selenium-stealth) (2.22)\n",
      "Requirement already satisfied: h11<1,>=0.9.0 in c:\\users\\admin\\appdata\\local\\programs\\python\\python310\\lib\\site-packages (from wsproto>=0.14->trio-websocket~=0.9->selenium->selenium-stealth) (0.16.0)\n",
      "Note: you may need to restart the kernel to use updated packages.\n"
     ]
    },
    {
     "name": "stderr",
     "output_type": "stream",
     "text": [
      "\n",
      "[notice] A new release of pip available: 22.3.1 -> 25.1.1\n",
      "[notice] To update, run: python.exe -m pip install --upgrade pip\n"
     ]
    }
   ],
   "source": [
    "%pip install selenium\n",
    "%pip install selenium-stealth"
   ]
  },
  {
   "cell_type": "code",
   "execution_count": 10,
   "id": "e99459a5",
   "metadata": {},
   "outputs": [],
   "source": [
    "import time\n",
    "import pandas as pd\n",
    "\n",
    "from concurrent.futures import ThreadPoolExecutor\n",
    "from threading import Lock\n",
    "\n",
    "from selenium import webdriver\n",
    "from selenium.webdriver.chrome.options import Options\n",
    "from selenium.webdriver.chrome.service import Service\n",
    "from selenium.webdriver.common.by import By\n",
    "from selenium.webdriver.support.ui import WebDriverWait\n",
    "from selenium.webdriver.support import expected_conditions as EC\n",
    "from selenium_stealth import stealth"
   ]
  },
  {
   "cell_type": "markdown",
   "id": "8bca0e6b",
   "metadata": {},
   "source": [
    "<table>\n",
    "  <thead>\n",
    "    <tr>\n",
    "      <th>Thư viện</th>\n",
    "      <th>Mô tả</th>\n",
    "    </tr>\n",
    "  </thead>\n",
    "  <tbody>\n",
    "    <tr>\n",
    "      <td><code>selenium</code></td>\n",
    "      <td>Thư viện điều khiển trình duyệt tự động, cho phép mô phỏng hành vi người dùng như click, nhập liệu, lấy dữ liệu từ trang web.</td>\n",
    "    </tr>\n",
    "    <tr>\n",
    "      <td><code>selenium_stealth</code></td>\n",
    "      <td>Ngụy trang trình duyệt Selenium để tránh bị website phát hiện là bot.</td>\n",
    "    </tr>\n",
    "    <tr>\n",
    "      <td><code>ThreadPoolExecutor</code></td>\n",
    "      <td>Chạy song song nhiều tác vụ bằng luồng (thread), tăng tốc crawl dữ liệu từ nhiều mã cổ phiếu.</td>\n",
    "    </tr>\n",
    "    <tr>\n",
    "      <td><code>Lock</code></td>\n",
    "      <td>Đảm bảo an toàn khi nhiều luồng cùng ghi file hoặc truy cập vùng dữ liệu chung.</td>\n",
    "    </tr>\n",
    "    <tr>\n",
    "      <td><code>WebDriverWait</code>, <code>expected_conditions</code></td>\n",
    "      <td>Chờ một điều kiện xảy ra như chờ phần tử xuất hiện trên trang trước khi thao tác.</td>\n",
    "    </tr>\n",
    "    <tr>\n",
    "      <td><code>NoSuchElementException</code></td>\n",
    "      <td>Xử lý lỗi khi phần tử không tồn tại, giúp chương trình tiếp tục hoạt động mà không crash.</td>\n",
    "    </tr>\n",
    "  </tbody>\n",
    "</table>\n"
   ]
  },
  {
   "cell_type": "markdown",
   "id": "2ab4799f",
   "metadata": {},
   "source": [
    "### 2. Cấu hình Selenium"
   ]
  },
  {
   "cell_type": "code",
   "execution_count": 11,
   "id": "364287ef",
   "metadata": {},
   "outputs": [],
   "source": [
    "def setup_driver(driver_path=\"../../browserDrivers/chromedriver.exe\"):\n",
    "    chrome_options = Options()\n",
    "    chrome_options.add_argument(\"--disable-blink-features=AutomationControlled\")\n",
    "    chrome_options.add_argument(\"--disable-infobars\")\n",
    "    chrome_options.add_argument(\"--start-maximized\")\n",
    "    chrome_options.add_argument(\"--disable-extensions\")\n",
    "    chrome_options.add_argument(\"user-agent=Mozilla/5.0 (Windows NT 10.0; Win64; x64) AppleWebKit/537.36 (KHTML, like Gecko) Chrome/99.0.4844.51 Safari/537.36\")\n",
    "    chrome_options.add_experimental_option(\"excludeSwitches\", [\"enable-automation\"])\n",
    "    chrome_options.add_experimental_option('useAutomationExtension', False)\n",
    "\n",
    "    service = Service(driver_path)\n",
    "    driver = webdriver.Chrome(service=service, options=chrome_options)\n",
    "\n",
    "    stealth(driver,\n",
    "            languages=[\"en-US\", \"en\"],\n",
    "            vendor=\"Google Inc.\",\n",
    "            platform=\"Win32\",\n",
    "            webgl_vendor=\"Intel Inc.\",\n",
    "            renderer=\"Intel Iris OpenGL Engine\",\n",
    "            fix_hairline=True,\n",
    "            )\n",
    "\n",
    "    driver.delete_all_cookies()\n",
    "    return driver\n"
   ]
  },
  {
   "cell_type": "markdown",
   "id": "693b9ef6",
   "metadata": {},
   "source": [
    "<div>\n",
    "  <table>\n",
    "    <thead>\n",
    "      <tr>\n",
    "        <th>Tham số</th>\n",
    "        <th>Chức năng</th>\n",
    "      </tr>\n",
    "    </thead>\n",
    "    <tbody>\n",
    "      <tr>\n",
    "        <td><code>--disable-blink-features=AutomationControlled</code></td>\n",
    "        <td>Ẩn dấu hiệu tự động hóa (automation) khỏi trang web. Ngăn việc phát hiện <code>navigator.webdriver = true</code>.</td>\n",
    "      </tr>\n",
    "      <tr>\n",
    "        <td><code>--disable-infobars</code></td>\n",
    "        <td>Ẩn thanh thông báo \"Chrome is being controlled by automated test software\".</td>\n",
    "      </tr>\n",
    "      <tr>\n",
    "        <td><code>--start-maximized</code></td>\n",
    "        <td>Mở trình duyệt ở chế độ toàn màn hình (giả lập thao tác người dùng thực tế).</td>\n",
    "      </tr>\n",
    "      <tr>\n",
    "        <td><code>--disable-extensions</code></td>\n",
    "        <td>Tắt tất cả tiện ích mở rộng của trình duyệt.</td>\n",
    "      </tr>\n",
    "      <tr>\n",
    "        <td><code>user-agent=...</code></td>\n",
    "        <td>Giả lập trình duyệt thông thường với chuỗi User-Agent tùy chỉnh.</td>\n",
    "      </tr>\n",
    "      <tr>\n",
    "        <td><code>excludeSwitches: [\"enable-automation\"]</code></td>\n",
    "        <td>Ngăn Chrome bật flag <code>enable-automation</code> để ẩn cảnh báo điều khiển tự động.</td>\n",
    "      </tr>\n",
    "      <tr>\n",
    "        <td><code>useAutomationExtension: False</code></td>\n",
    "        <td>Tắt extension mặc định của ChromeDriver dùng cho automation, giúp giảm dấu vết bot.</td>\n",
    "      </tr>\n",
    "    </tbody>\n",
    "  </table>\n",
    "</div>\n"
   ]
  },
  {
   "cell_type": "markdown",
   "id": "dfc58e05",
   "metadata": {},
   "source": [
    "### 3. Cấu hình tham số"
   ]
  },
  {
   "cell_type": "code",
   "execution_count": 12,
   "id": "05378190",
   "metadata": {},
   "outputs": [],
   "source": [
    "NUM_THREADS = 3  \n",
    "MAX_RETRIES = 3 \n",
    "lock = Lock()\n",
    "\n",
    "output_fields = [\"date\", \"open\", \"high\", \"low\", \"close\", \"volume\"]\n",
    "\n",
    "symbols = [\"FPT\", \"HPG\", \"VNM\"]"
   ]
  },
  {
   "cell_type": "markdown",
   "id": "1bb38eee",
   "metadata": {},
   "source": [
    "<table>\n",
    "  <thead>\n",
    "    <tr>\n",
    "      <th>🛠️ Biến / Hằng</th>\n",
    "      <th>📝 Mô tả</th>\n",
    "    </tr>\n",
    "  </thead>\n",
    "  <tbody>\n",
    "    <tr>\n",
    "      <td><code>NUM_THREADS</code></td>\n",
    "      <td>Số luồng (threads) sẽ được sử dụng để xử lý song song. Tăng số này giúp chương trình nhanh hơn khi thu thập dữ liệu nhiều mã cổ phiếu.</td>\n",
    "    </tr>\n",
    "    <tr>\n",
    "      <td><code>MAX_RETRIES</code></td>\n",
    "      <td>Số lần thử lại tối đa nếu một thao tác (ví dụ như tải trang hoặc tìm phần tử) bị lỗi hoặc timeout.</td>\n",
    "    </tr>\n",
    "    <tr>\n",
    "      <td><code>lock = Lock()</code></td>\n",
    "      <td>Tạo một <strong>khóa luồng (thread lock)</strong> để đảm bảo rằng <strong>chỉ một luồng được thực thi đoạn mã quan trọng tại một thời điểm</strong>, giúp tránh xung đột khi nhiều luồng cùng ghi vào một tài nguyên như file hoặc biến dùng chung.</td>\n",
    "    </tr>\n",
    "    <tr>\n",
    "      <td><code>output_fields</code></td>\n",
    "      <td>Danh sách các trường dữ liệu cần lấy (ví dụ: <code>[\"date\", \"open\", \"high\", \"low\", \"close\", \"volume\"]</code>). Dùng để xác định và chuẩn hóa cột khi lưu kết quả.</td>\n",
    "    </tr>\n",
    "    <tr>\n",
    "      <td><code>symbols</code></td>\n",
    "      <td>Danh sách các mã cổ phiếu cần thu thập dữ liệu, ví dụ: <code>[\"FPT\", \"HPG\", \"VNM\"]</code>.</td>\n",
    "    </tr>\n",
    "  </tbody>\n",
    "</table>\n"
   ]
  },
  {
   "cell_type": "markdown",
   "id": "04c0a0fd",
   "metadata": {},
   "source": [
    "## 4. Định nghĩa các hàm thu thập dữ liệu\n",
    "\n",
    "Trong phần này, chúng ta sẽ xây dựng các hàm thu thập dữ liệu chứng khoán từ website CafeF.\n",
    "\n",
    "- `crawl_data` – Thu thập toàn bộ dữ liệu lịch sử của một mã cổ phiếu, tự động phân trang và dừng khi hết dữ liệu.\n",
    "- `crawl_data_with_retry()` + `crawl_multiple_symbols()` – Tích hợp retry, đa luồng để thu thập nhiều mã cổ phiếu cùng lúc."
   ]
  },
  {
   "cell_type": "code",
   "execution_count": 13,
   "id": "ba799d64",
   "metadata": {},
   "outputs": [],
   "source": [
    "def crawl_data(driver, symbol: str):\n",
    "    url = f\"https://simplize.vn/co-phieu/{symbol}/lich-su-gia\"\n",
    "    driver.get(url)\n",
    "\n",
    "    wait = WebDriverWait(driver, 20)\n",
    "    wait.until(EC.presence_of_element_located((By.CLASS_NAME, \"simplize-table-body\")))\n",
    "\n",
    "    all_data = []\n",
    "    seen_dates = set()\n",
    "    page_count = 1\n",
    "\n",
    "    while True:\n",
    "        rows = driver.find_elements(By.CSS_SELECTOR, \".simplize-table-tbody > tr\")\n",
    "\n",
    "        for row in rows:\n",
    "            try:\n",
    "                cols = row.find_elements(By.TAG_NAME, \"td\")\n",
    "                if len(cols) < 8:\n",
    "                    continue\n",
    "\n",
    "                date = cols[0].text.strip()\n",
    "                if date in seen_dates:\n",
    "                    continue\n",
    "                seen_dates.add(date)\n",
    "\n",
    "                all_data.append({\n",
    "                    \"date\": date,\n",
    "                    \"open\": cols[1].text.strip(),\n",
    "                    \"high\": cols[2].text.strip(),\n",
    "                    \"low\": cols[3].text.strip(),\n",
    "                    \"close\": cols[4].text.strip(),\n",
    "                    \"volume\": cols[7].text.strip()\n",
    "                })\n",
    "            except:\n",
    "                continue\n",
    "\n",
    "        # Kiểm tra nút Next\n",
    "        try:\n",
    "            next_buttons = driver.find_elements(By.CSS_SELECTOR, \".simplize-pagination-item-link.css-11we714\")\n",
    "            next_btn = next_buttons[-1]\n",
    "\n",
    "            if next_btn.get_attribute(\"disabled\") is not None:\n",
    "                print(\"✅ Đã đến trang cuối.\")\n",
    "                break\n",
    "\n",
    "            driver.execute_script(\"arguments[0].click();\", next_btn)\n",
    "            time.sleep(2)\n",
    "            page_count += 1\n",
    "        except Exception as e:\n",
    "            print(f\"❌ Lỗi khi chuyển trang: {e}\")\n",
    "            break\n",
    "\n",
    "    return pd.DataFrame(all_data)\n"
   ]
  },
  {
   "cell_type": "code",
   "execution_count": 14,
   "id": "4b2ed284",
   "metadata": {},
   "outputs": [],
   "source": [
    "def crawl_data_with_retry(symbol):\n",
    "    for attempt in range(MAX_RETRIES):\n",
    "        try:\n",
    "            print(f\"[{symbol}] Crawling (attempt {attempt + 1})...\")\n",
    "            driver = setup_driver()\n",
    "            df = crawl_data(driver, symbol)\n",
    "            driver.quit()\n",
    "            return df\n",
    "        except Exception as e:\n",
    "            print(f\"⚠️ [{symbol}] Lỗi ở lần {attempt + 1}: {e}\")\n",
    "            try: driver.quit()\n",
    "            except: pass\n",
    "            time.sleep(2)\n",
    "    print(f\"❌ [{symbol}] Thất bại sau {MAX_RETRIES} lần.\")\n",
    "    return pd.DataFrame(columns=output_fields)\n"
   ]
  },
  {
   "cell_type": "code",
   "execution_count": 15,
   "id": "fcf651c3",
   "metadata": {},
   "outputs": [],
   "source": [
    "def crawl_multiple_symbols(symbols):\n",
    "    final_results = []\n",
    "\n",
    "    with ThreadPoolExecutor(max_workers=NUM_THREADS) as executor:\n",
    "        futures = {\n",
    "            executor.submit(crawl_data_with_retry, symbol): symbol\n",
    "            for symbol in symbols\n",
    "        }\n",
    "\n",
    "        for future in futures:\n",
    "            symbol = futures[future]\n",
    "            try:\n",
    "                df = future.result()\n",
    "                if not df.empty:\n",
    "                    with lock:\n",
    "                        df.to_csv(f\"../../data/raw/{symbol.lower()}.csv\", index=False)\n",
    "                        final_results.append(df)\n",
    "                        print(f\"✅ [{symbol}] Đã lưu thành công ({len(df)} dòng)\")\n",
    "                else:\n",
    "                    print(f\"❌ [{symbol}] Không có dữ liệu.\")\n",
    "            except Exception as e:\n",
    "                print(f\"🔥 [{symbol}] Lỗi trong luồng: {e}\")\n",
    "\n",
    "    # Trả về 1 DataFrame tổng nếu cần\n",
    "    return pd.concat(final_results, ignore_index=True) if final_results else pd.DataFrame(columns=output_fields)"
   ]
  },
  {
   "cell_type": "code",
   "execution_count": 16,
   "id": "0447a2db",
   "metadata": {},
   "outputs": [
    {
     "name": "stdout",
     "output_type": "stream",
     "text": [
      "[FPT] Crawling (attempt 1)...\n",
      "[HPG] Crawling (attempt 1)...\n",
      "[VNM] Crawling (attempt 1)...\n",
      "✅ Đã đến trang cuối.\n",
      "✅ Đã đến trang cuối.\n",
      "✅ [FPT] Đã lưu thành công (4618 dòng)\n",
      "✅ [HPG] Đã lưu thành công (4389 dòng)\n",
      "✅ Đã đến trang cuối.\n",
      "✅ [VNM] Đã lưu thành công (4844 dòng)\n"
     ]
    }
   ],
   "source": [
    "df_all = crawl_multiple_symbols(symbols)"
   ]
  }
 ],
 "metadata": {
  "kernelspec": {
   "display_name": "Python 3",
   "language": "python",
   "name": "python3"
  },
  "language_info": {
   "codemirror_mode": {
    "name": "ipython",
    "version": 3
   },
   "file_extension": ".py",
   "mimetype": "text/x-python",
   "name": "python",
   "nbconvert_exporter": "python",
   "pygments_lexer": "ipython3",
   "version": "3.10.9"
  }
 },
 "nbformat": 4,
 "nbformat_minor": 5
}
