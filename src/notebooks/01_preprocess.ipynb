{
 "cells": [
  {
   "cell_type": "code",
   "execution_count": 12,
   "id": "a64454a6",
   "metadata": {},
   "outputs": [],
   "source": [
    "import pandas as pd\n",
    "import sys\n",
    "sys.path.append(\"../utils\")\n",
    "\n",
    "from utils import load_csv, save_data"
   ]
  },
  {
   "cell_type": "code",
   "execution_count": 13,
   "id": "aab70060",
   "metadata": {},
   "outputs": [
    {
     "name": "stderr",
     "output_type": "stream",
     "text": [
      "2025-06-14 10:19:11,300 - INFO - ✅ Load CSV thành công: ../../data/raw/fpt.csv | shape = (4565, 6)\n"
     ]
    },
    {
     "data": {
      "text/html": [
       "<div>\n",
       "<style scoped>\n",
       "    .dataframe tbody tr th:only-of-type {\n",
       "        vertical-align: middle;\n",
       "    }\n",
       "\n",
       "    .dataframe tbody tr th {\n",
       "        vertical-align: top;\n",
       "    }\n",
       "\n",
       "    .dataframe thead th {\n",
       "        text-align: right;\n",
       "    }\n",
       "</style>\n",
       "<table border=\"1\" class=\"dataframe\">\n",
       "  <thead>\n",
       "    <tr style=\"text-align: right;\">\n",
       "      <th></th>\n",
       "      <th>date</th>\n",
       "      <th>open</th>\n",
       "      <th>high</th>\n",
       "      <th>low</th>\n",
       "      <th>close</th>\n",
       "      <th>volume</th>\n",
       "    </tr>\n",
       "  </thead>\n",
       "  <tbody>\n",
       "    <tr>\n",
       "      <th>0</th>\n",
       "      <td>NaN</td>\n",
       "      <td>NaN</td>\n",
       "      <td>NaN</td>\n",
       "      <td>NaN</td>\n",
       "      <td>NaN</td>\n",
       "      <td>NaN</td>\n",
       "    </tr>\n",
       "    <tr>\n",
       "      <th>1</th>\n",
       "      <td>13/06/2025</td>\n",
       "      <td>116,000</td>\n",
       "      <td>116,500</td>\n",
       "      <td>114,900</td>\n",
       "      <td>115,400</td>\n",
       "      <td>6,161,700</td>\n",
       "    </tr>\n",
       "    <tr>\n",
       "      <th>2</th>\n",
       "      <td>12/06/2025</td>\n",
       "      <td>117,600</td>\n",
       "      <td>117,700</td>\n",
       "      <td>116,500</td>\n",
       "      <td>117,000</td>\n",
       "      <td>4,153,100</td>\n",
       "    </tr>\n",
       "    <tr>\n",
       "      <th>3</th>\n",
       "      <td>11/06/2025</td>\n",
       "      <td>115,115</td>\n",
       "      <td>117,197</td>\n",
       "      <td>115,115</td>\n",
       "      <td>116,900</td>\n",
       "      <td>6,554,301</td>\n",
       "    </tr>\n",
       "    <tr>\n",
       "      <th>4</th>\n",
       "      <td>10/06/2025</td>\n",
       "      <td>116,007</td>\n",
       "      <td>116,404</td>\n",
       "      <td>114,718</td>\n",
       "      <td>114,718</td>\n",
       "      <td>3,854,500</td>\n",
       "    </tr>\n",
       "  </tbody>\n",
       "</table>\n",
       "</div>"
      ],
      "text/plain": [
       "         date     open     high      low    close     volume\n",
       "0         NaN      NaN      NaN      NaN      NaN        NaN\n",
       "1  13/06/2025  116,000  116,500  114,900  115,400  6,161,700\n",
       "2  12/06/2025  117,600  117,700  116,500  117,000  4,153,100\n",
       "3  11/06/2025  115,115  117,197  115,115  116,900  6,554,301\n",
       "4  10/06/2025  116,007  116,404  114,718  114,718  3,854,500"
      ]
     },
     "execution_count": 13,
     "metadata": {},
     "output_type": "execute_result"
    }
   ],
   "source": [
    "df = load_csv(\"../../data/raw/fpt.csv\")\n",
    "df.head()"
   ]
  },
  {
   "cell_type": "code",
   "execution_count": 14,
   "id": "ab7c9322",
   "metadata": {},
   "outputs": [
    {
     "data": {
      "text/plain": [
       "date      object\n",
       "open      object\n",
       "high      object\n",
       "low       object\n",
       "close     object\n",
       "volume    object\n",
       "dtype: object"
      ]
     },
     "execution_count": 14,
     "metadata": {},
     "output_type": "execute_result"
    }
   ],
   "source": [
    "df.dtypes"
   ]
  },
  {
   "cell_type": "code",
   "execution_count": 15,
   "id": "c88e1937",
   "metadata": {},
   "outputs": [],
   "source": [
    "def preprocess(df: pd.DataFrame) -> pd.DataFrame:\n",
    "    original_rows = len(df)\n",
    "\n",
    "    # Xoá các dòng toàn bộ là NaN hoặc chuỗi rỗng\n",
    "    df = df.dropna(how='all')\n",
    "    df = df[~(df.apply(lambda row: row.astype(str).str.strip().eq('').all(), axis=1))]\n",
    "    \n",
    "    # Chuẩn hóa tên cột\n",
    "    df.columns = [col.strip().lower().replace(\" \", \"_\") for col in df.columns]\n",
    "\n",
    "    # Xoá trùng lặp\n",
    "    df = df.drop_duplicates()\n",
    "\n",
    "    # Chuẩn hóa kiểu dữ liệu\n",
    "    df['date'] = pd.to_datetime(df['date'], format=\"%d/%m/%Y\")\n",
    "\n",
    "    for col in ['open', 'high', 'low', 'close']:\n",
    "        df[col] = df[col].str.replace(\",\", \"\").astype(float)\n",
    "        df[col] = (df[col] / 1000).round(2)\n",
    "    \n",
    "    df['volume'] = df['volume'].str.replace(\",\", \"\").astype(int)\n",
    "\n",
    "\n",
    "    # Điền missing\n",
    "    for col in df.columns:\n",
    "        if df[col].dtype in [int, float, float]:\n",
    "            df[col] = df[col].fillna(df[col].mean())\n",
    "        else:\n",
    "            df[col] = df[col].fillna(df[col].mode().iloc[0])\n",
    "\n",
    "    return df\n"
   ]
  },
  {
   "cell_type": "code",
   "execution_count": 16,
   "id": "0fcc3d78",
   "metadata": {},
   "outputs": [
    {
     "name": "stderr",
     "output_type": "stream",
     "text": [
      "2025-06-14 10:19:11,380 - INFO - ✅ Load CSV thành công: ../../data/raw/fpt.csv | shape = (4565, 6)\n"
     ]
    },
    {
     "name": "stderr",
     "output_type": "stream",
     "text": [
      "2025-06-14 10:19:12,553 - INFO - ✅ Load CSV thành công: ../../data/raw/hpg.csv | shape = (4362, 6)\n"
     ]
    },
    {
     "name": "stdout",
     "output_type": "stream",
     "text": [
      "✅ FPT - Rows: 4564, Columns: 6\n"
     ]
    },
    {
     "name": "stderr",
     "output_type": "stream",
     "text": [
      "2025-06-14 10:19:13,627 - INFO - ✅ Load CSV thành công: ../../data/raw/vnm.csv | shape = (4797, 6)\n"
     ]
    },
    {
     "name": "stdout",
     "output_type": "stream",
     "text": [
      "✅ HPG - Rows: 4361, Columns: 6\n",
      "✅ VNM - Rows: 4796, Columns: 6\n"
     ]
    }
   ],
   "source": [
    "# Tạo danh sách mã cổ phiếu cần xử lý\n",
    "symbols = [\"fpt\", \"hpg\", \"vnm\"]\n",
    "dfs = {}\n",
    "\n",
    "# Lặp qua từng mã, load và tiền xử lý\n",
    "for symbol in symbols:\n",
    "    raw_path = f\"../../data/raw/{symbol}.csv\"\n",
    "    df = load_csv(raw_path)\n",
    "    df_clean = preprocess(df)\n",
    "    dfs[symbol] = df_clean\n",
    "    print(f\"✅ {symbol.upper()} - Rows: {df_clean.shape[0]}, Columns: {df_clean.shape[1]}\")\n"
   ]
  },
  {
   "cell_type": "code",
   "execution_count": 17,
   "id": "1d643f3b",
   "metadata": {},
   "outputs": [
    {
     "name": "stdout",
     "output_type": "stream",
     "text": [
      "\n",
      "FPT - Dữ liệu sau xử lý:\n"
     ]
    },
    {
     "data": {
      "text/html": [
       "<div>\n",
       "<style scoped>\n",
       "    .dataframe tbody tr th:only-of-type {\n",
       "        vertical-align: middle;\n",
       "    }\n",
       "\n",
       "    .dataframe tbody tr th {\n",
       "        vertical-align: top;\n",
       "    }\n",
       "\n",
       "    .dataframe thead th {\n",
       "        text-align: right;\n",
       "    }\n",
       "</style>\n",
       "<table border=\"1\" class=\"dataframe\">\n",
       "  <thead>\n",
       "    <tr style=\"text-align: right;\">\n",
       "      <th></th>\n",
       "      <th>date</th>\n",
       "      <th>open</th>\n",
       "      <th>high</th>\n",
       "      <th>low</th>\n",
       "      <th>close</th>\n",
       "      <th>volume</th>\n",
       "    </tr>\n",
       "  </thead>\n",
       "  <tbody>\n",
       "    <tr>\n",
       "      <th>1</th>\n",
       "      <td>2025-06-13</td>\n",
       "      <td>116.00</td>\n",
       "      <td>116.50</td>\n",
       "      <td>114.90</td>\n",
       "      <td>115.40</td>\n",
       "      <td>6161700</td>\n",
       "    </tr>\n",
       "    <tr>\n",
       "      <th>2</th>\n",
       "      <td>2025-06-12</td>\n",
       "      <td>117.60</td>\n",
       "      <td>117.70</td>\n",
       "      <td>116.50</td>\n",
       "      <td>117.00</td>\n",
       "      <td>4153100</td>\n",
       "    </tr>\n",
       "    <tr>\n",
       "      <th>3</th>\n",
       "      <td>2025-06-11</td>\n",
       "      <td>115.12</td>\n",
       "      <td>117.20</td>\n",
       "      <td>115.12</td>\n",
       "      <td>116.90</td>\n",
       "      <td>6554301</td>\n",
       "    </tr>\n",
       "    <tr>\n",
       "      <th>4</th>\n",
       "      <td>2025-06-10</td>\n",
       "      <td>116.01</td>\n",
       "      <td>116.40</td>\n",
       "      <td>114.72</td>\n",
       "      <td>114.72</td>\n",
       "      <td>3854500</td>\n",
       "    </tr>\n",
       "    <tr>\n",
       "      <th>5</th>\n",
       "      <td>2025-06-09</td>\n",
       "      <td>114.52</td>\n",
       "      <td>115.91</td>\n",
       "      <td>114.02</td>\n",
       "      <td>115.21</td>\n",
       "      <td>4474400</td>\n",
       "    </tr>\n",
       "  </tbody>\n",
       "</table>\n",
       "</div>"
      ],
      "text/plain": [
       "        date    open    high     low   close   volume\n",
       "1 2025-06-13  116.00  116.50  114.90  115.40  6161700\n",
       "2 2025-06-12  117.60  117.70  116.50  117.00  4153100\n",
       "3 2025-06-11  115.12  117.20  115.12  116.90  6554301\n",
       "4 2025-06-10  116.01  116.40  114.72  114.72  3854500\n",
       "5 2025-06-09  114.52  115.91  114.02  115.21  4474400"
      ]
     },
     "metadata": {},
     "output_type": "display_data"
    },
    {
     "name": "stdout",
     "output_type": "stream",
     "text": [
      "\n",
      "HPG - Dữ liệu sau xử lý:\n"
     ]
    },
    {
     "data": {
      "text/html": [
       "<div>\n",
       "<style scoped>\n",
       "    .dataframe tbody tr th:only-of-type {\n",
       "        vertical-align: middle;\n",
       "    }\n",
       "\n",
       "    .dataframe tbody tr th {\n",
       "        vertical-align: top;\n",
       "    }\n",
       "\n",
       "    .dataframe thead th {\n",
       "        text-align: right;\n",
       "    }\n",
       "</style>\n",
       "<table border=\"1\" class=\"dataframe\">\n",
       "  <thead>\n",
       "    <tr style=\"text-align: right;\">\n",
       "      <th></th>\n",
       "      <th>date</th>\n",
       "      <th>open</th>\n",
       "      <th>high</th>\n",
       "      <th>low</th>\n",
       "      <th>close</th>\n",
       "      <th>volume</th>\n",
       "    </tr>\n",
       "  </thead>\n",
       "  <tbody>\n",
       "    <tr>\n",
       "      <th>1</th>\n",
       "      <td>2025-06-13</td>\n",
       "      <td>26.60</td>\n",
       "      <td>26.75</td>\n",
       "      <td>26.30</td>\n",
       "      <td>26.4</td>\n",
       "      <td>38769800</td>\n",
       "    </tr>\n",
       "    <tr>\n",
       "      <th>2</th>\n",
       "      <td>2025-06-12</td>\n",
       "      <td>26.15</td>\n",
       "      <td>27.10</td>\n",
       "      <td>26.15</td>\n",
       "      <td>26.8</td>\n",
       "      <td>52217900</td>\n",
       "    </tr>\n",
       "    <tr>\n",
       "      <th>3</th>\n",
       "      <td>2025-06-11</td>\n",
       "      <td>26.30</td>\n",
       "      <td>26.35</td>\n",
       "      <td>26.00</td>\n",
       "      <td>26.1</td>\n",
       "      <td>16548100</td>\n",
       "    </tr>\n",
       "    <tr>\n",
       "      <th>4</th>\n",
       "      <td>2025-06-10</td>\n",
       "      <td>26.50</td>\n",
       "      <td>26.85</td>\n",
       "      <td>26.20</td>\n",
       "      <td>26.2</td>\n",
       "      <td>29410900</td>\n",
       "    </tr>\n",
       "    <tr>\n",
       "      <th>5</th>\n",
       "      <td>2025-06-09</td>\n",
       "      <td>26.10</td>\n",
       "      <td>26.40</td>\n",
       "      <td>25.95</td>\n",
       "      <td>26.3</td>\n",
       "      <td>24987900</td>\n",
       "    </tr>\n",
       "  </tbody>\n",
       "</table>\n",
       "</div>"
      ],
      "text/plain": [
       "        date   open   high    low  close    volume\n",
       "1 2025-06-13  26.60  26.75  26.30   26.4  38769800\n",
       "2 2025-06-12  26.15  27.10  26.15   26.8  52217900\n",
       "3 2025-06-11  26.30  26.35  26.00   26.1  16548100\n",
       "4 2025-06-10  26.50  26.85  26.20   26.2  29410900\n",
       "5 2025-06-09  26.10  26.40  25.95   26.3  24987900"
      ]
     },
     "metadata": {},
     "output_type": "display_data"
    },
    {
     "name": "stdout",
     "output_type": "stream",
     "text": [
      "\n",
      "VNM - Dữ liệu sau xử lý:\n"
     ]
    },
    {
     "data": {
      "text/html": [
       "<div>\n",
       "<style scoped>\n",
       "    .dataframe tbody tr th:only-of-type {\n",
       "        vertical-align: middle;\n",
       "    }\n",
       "\n",
       "    .dataframe tbody tr th {\n",
       "        vertical-align: top;\n",
       "    }\n",
       "\n",
       "    .dataframe thead th {\n",
       "        text-align: right;\n",
       "    }\n",
       "</style>\n",
       "<table border=\"1\" class=\"dataframe\">\n",
       "  <thead>\n",
       "    <tr style=\"text-align: right;\">\n",
       "      <th></th>\n",
       "      <th>date</th>\n",
       "      <th>open</th>\n",
       "      <th>high</th>\n",
       "      <th>low</th>\n",
       "      <th>close</th>\n",
       "      <th>volume</th>\n",
       "    </tr>\n",
       "  </thead>\n",
       "  <tbody>\n",
       "    <tr>\n",
       "      <th>1</th>\n",
       "      <td>2025-06-13</td>\n",
       "      <td>55.5</td>\n",
       "      <td>55.7</td>\n",
       "      <td>55.2</td>\n",
       "      <td>55.5</td>\n",
       "      <td>3545400</td>\n",
       "    </tr>\n",
       "    <tr>\n",
       "      <th>2</th>\n",
       "      <td>2025-06-12</td>\n",
       "      <td>55.6</td>\n",
       "      <td>56.2</td>\n",
       "      <td>55.5</td>\n",
       "      <td>55.9</td>\n",
       "      <td>3282700</td>\n",
       "    </tr>\n",
       "    <tr>\n",
       "      <th>3</th>\n",
       "      <td>2025-06-11</td>\n",
       "      <td>55.3</td>\n",
       "      <td>55.6</td>\n",
       "      <td>55.1</td>\n",
       "      <td>55.2</td>\n",
       "      <td>1720700</td>\n",
       "    </tr>\n",
       "    <tr>\n",
       "      <th>4</th>\n",
       "      <td>2025-06-10</td>\n",
       "      <td>55.5</td>\n",
       "      <td>56.1</td>\n",
       "      <td>55.1</td>\n",
       "      <td>55.3</td>\n",
       "      <td>2999200</td>\n",
       "    </tr>\n",
       "    <tr>\n",
       "      <th>5</th>\n",
       "      <td>2025-06-09</td>\n",
       "      <td>55.4</td>\n",
       "      <td>56.3</td>\n",
       "      <td>55.3</td>\n",
       "      <td>55.3</td>\n",
       "      <td>3035700</td>\n",
       "    </tr>\n",
       "  </tbody>\n",
       "</table>\n",
       "</div>"
      ],
      "text/plain": [
       "        date  open  high   low  close   volume\n",
       "1 2025-06-13  55.5  55.7  55.2   55.5  3545400\n",
       "2 2025-06-12  55.6  56.2  55.5   55.9  3282700\n",
       "3 2025-06-11  55.3  55.6  55.1   55.2  1720700\n",
       "4 2025-06-10  55.5  56.1  55.1   55.3  2999200\n",
       "5 2025-06-09  55.4  56.3  55.3   55.3  3035700"
      ]
     },
     "metadata": {},
     "output_type": "display_data"
    }
   ],
   "source": [
    "# Hiển thị 5 dòng đầu tiên của mỗi mã cổ phiếu\n",
    "for symbol in symbols:\n",
    "    print(f\"\\n{symbol.upper()} - Dữ liệu sau xử lý:\")\n",
    "    display(dfs[symbol].head())"
   ]
  },
  {
   "cell_type": "code",
   "execution_count": 18,
   "id": "9aa36a86",
   "metadata": {},
   "outputs": [
    {
     "name": "stderr",
     "output_type": "stream",
     "text": [
      "2025-06-14 10:19:14,848 - INFO - 💾 Đã lưu dữ liệu thành công: ../../data/clean/fpt.csv\n",
      "2025-06-14 10:19:14,868 - INFO - 💾 Đã lưu dữ liệu thành công: ../../data/clean/hpg.csv\n",
      "2025-06-14 10:19:14,889 - INFO - 💾 Đã lưu dữ liệu thành công: ../../data/clean/vnm.csv\n"
     ]
    }
   ],
   "source": [
    "# Save\n",
    "for symbol in symbols:\n",
    "    path = f\"../../data/clean/{symbol}.csv\"\n",
    "    save_data(dfs[symbol], f\"../../data/clean/{symbol}.csv\")"
   ]
  }
 ],
 "metadata": {
  "kernelspec": {
   "display_name": "Python 3",
   "language": "python",
   "name": "python3"
  },
  "language_info": {
   "codemirror_mode": {
    "name": "ipython",
    "version": 3
   },
   "file_extension": ".py",
   "mimetype": "text/x-python",
   "name": "python",
   "nbconvert_exporter": "python",
   "pygments_lexer": "ipython3",
   "version": "3.10.9"
  }
 },
 "nbformat": 4,
 "nbformat_minor": 5
}
